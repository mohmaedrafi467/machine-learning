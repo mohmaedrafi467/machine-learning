{
  "nbformat": 4,
  "nbformat_minor": 0,
  "metadata": {
    "colab": {
      "provenance": []
    },
    "kernelspec": {
      "name": "python3",
      "display_name": "Python 3"
    },
    "language_info": {
      "name": "python"
    }
  },
  "cells": [
    {
      "cell_type": "code",
      "execution_count": null,
      "metadata": {
        "id": "7s3wmSGFq22v",
        "colab": {
          "base_uri": "https://localhost:8080/"
        },
        "outputId": "767e1448-4507-4ab7-f5c8-dae5a89cc4f2"
      },
      "outputs": [
        {
          "output_type": "stream",
          "name": "stdout",
          "text": [
            "x_train shape: (112, 4)\n",
            "y_train shape: (112,)\n",
            "prediction: [0]\n",
            "prediction target name: ['setosa']\n",
            "test set prediction: [2 1 0 2 0 2 0 1 1 1 2 1 1 1 1 0 1 1 0 0 2 1 0 0 2 0 0 1 1 0 2 1 0 2 2 1 0\n",
            " 2]\n",
            "KNN (in %): 97.36842105263158\n"
          ]
        }
      ],
      "source": [
        "from sklearn.datasets import load_iris\n",
        "from sklearn.neighbors import KNeighborsClassifier\n",
        "from sklearn.model_selection import train_test_split\n",
        "from sklearn import metrics\n",
        "from sklearn.metrics import confusion_matrix\n",
        "\n",
        "iris_dataset=load_iris()\n",
        "\n",
        "x_train,x_test,y_train,y_test=train_test_split(iris_dataset['data'],iris_dataset['target'],random_state=0)\n",
        "print(\"x_train shape:\",x_train.shape)\n",
        "print(\"y_train shape:\",y_train.shape)\n",
        "knn=KNeighborsClassifier(n_neighbors=1)\n",
        "\n",
        "knn.fit(x_train,y_train)\n",
        "\n",
        "prediction=knn.predict([[4.5,1.2,1.3,1.9]])\n",
        "print(\"prediction:\",prediction)\n",
        "print(\"prediction target name:\",iris_dataset['target_names'][prediction])\n",
        "y_pred=knn.predict(x_test)\n",
        "print(\"test set prediction:\",y_pred)\n",
        "print(\"KNN (in %):\", metrics.accuracy_score(y_test, y_pred)*100)\n"
      ]
    }
  ]
}